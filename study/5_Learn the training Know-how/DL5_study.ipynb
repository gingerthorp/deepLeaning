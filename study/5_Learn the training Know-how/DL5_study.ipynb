{
  "nbformat": 4,
  "nbformat_minor": 0,
  "metadata": {
    "colab": {
      "name": "DL5_study.ipynb",
      "provenance": [],
      "authorship_tag": "ABX9TyOaGwH5qvqXquGkYVLGaO6d",
      "include_colab_link": true
    },
    "kernelspec": {
      "name": "python3",
      "display_name": "Python 3"
    }
  },
  "cells": [
    {
      "cell_type": "markdown",
      "metadata": {
        "id": "view-in-github",
        "colab_type": "text"
      },
      "source": [
        "<a href=\"https://colab.research.google.com/github/gingerthorp/deepLeaning/blob/master/study/5_Learn%20the%20training%20Know-how/DL5_study.ipynb\" target=\"_parent\"><img src=\"https://colab.research.google.com/assets/colab-badge.svg\" alt=\"Open In Colab\"/></a>"
      ]
    },
    {
      "cell_type": "code",
      "metadata": {
        "id": "mV1Ajaa7oCKq",
        "colab_type": "code",
        "colab": {}
      },
      "source": [
        "from sklearn.datasets import load_breast_cancer\n",
        "from sklearn.model_selection import train_test_split\n",
        "cancer = load_breast_cancer()\n",
        "x = cancer.data\n",
        "y = cancer.target"
      ],
      "execution_count": null,
      "outputs": []
    },
    {
      "cell_type": "code",
      "metadata": {
        "id": "IGXJxWS6ocnz",
        "colab_type": "code",
        "colab": {}
      },
      "source": [
        "x_train_all, x_test, y_train_all, y_test = train_test_split(x, y, stratify=y, test_size=0.2, random_state=42)"
      ],
      "execution_count": null,
      "outputs": []
    },
    {
      "cell_type": "code",
      "metadata": {
        "id": "XA-KObj5oxES",
        "colab_type": "code",
        "colab": {
          "base_uri": "https://localhost:8080/",
          "height": 35
        },
        "outputId": "52d4356b-9631-4a0c-f10e-43b338a83b1f"
      },
      "source": [
        "from sklearn.linear_model import SGDClassifier\n",
        "sgd = SGDClassifier(loss='log', random_state=42)\n",
        "sgd.fit(x_train_all, y_train_all)\n",
        "sgd.score(x_test, y_test)"
      ],
      "execution_count": null,
      "outputs": [
        {
          "output_type": "execute_result",
          "data": {
            "text/plain": [
              "0.8333333333333334"
            ]
          },
          "metadata": {
            "tags": []
          },
          "execution_count": 4
        }
      ]
    },
    {
      "cell_type": "code",
      "metadata": {
        "id": "__VK3xwipLL2",
        "colab_type": "code",
        "colab": {
          "base_uri": "https://localhost:8080/",
          "height": 35
        },
        "outputId": "acc0439d-9e33-482c-c993-7d50d7867a5e"
      },
      "source": [
        "sgd = SGDClassifier(loss='hinge', random_state=42)\n",
        "sgd.fit(x_train_all, y_train_all)\n",
        "sgd.score(x_test, y_test)"
      ],
      "execution_count": null,
      "outputs": [
        {
          "output_type": "execute_result",
          "data": {
            "text/plain": [
              "0.9385964912280702"
            ]
          },
          "metadata": {
            "tags": []
          },
          "execution_count": 5
        }
      ]
    },
    {
      "cell_type": "markdown",
      "metadata": {
        "id": "p2tc9ifbpe8H",
        "colab_type": "text"
      },
      "source": [
        "## 검증 세트 준비하기"
      ]
    },
    {
      "cell_type": "code",
      "metadata": {
        "id": "g2ghvL_BqNTQ",
        "colab_type": "code",
        "colab": {
          "base_uri": "https://localhost:8080/",
          "height": 71
        },
        "outputId": "e86f4075-9642-445d-c9ff-3620163db6ad"
      },
      "source": [
        "print(\"x total size : \",len(x))\n",
        "print(\"x_train_all size : \",len(x_train_all))\n",
        "print(\"x_test size : \", len(x_test))\n"
      ],
      "execution_count": null,
      "outputs": [
        {
          "output_type": "stream",
          "text": [
            "x total size :  569\n",
            "x_train_all size :  455\n",
            "x_test size :  114\n"
          ],
          "name": "stdout"
        }
      ]
    },
    {
      "cell_type": "code",
      "metadata": {
        "id": "Q0TuXKo0pl-Y",
        "colab_type": "code",
        "colab": {
          "base_uri": "https://localhost:8080/",
          "height": 89
        },
        "outputId": "9f03a710-be22-439c-e8a6-4880f7f6d2c0"
      },
      "source": [
        "x_train, x_val, y_train, y_val = train_test_split(x_train_all, y_train_all, stratify=y_train_all, test_size=0.2, random_state=42)\n",
        "\n",
        "print(\"x total size : \",len(x))       # 전체 데이터 사이즈  :100\n",
        "print(\"x_train size : \",len(x_train)) # 학습 데이터 사이즈  :64\n",
        "print(\"x_val size : \", len(x_val))    # 검증 데이터 사이즈  :16\n",
        "print(\"x_test size : \", len(x_test))  # 테스트 데이터 사이즈 :20"
      ],
      "execution_count": null,
      "outputs": [
        {
          "output_type": "stream",
          "text": [
            "x total size :  569\n",
            "x_train size :  364\n",
            "x_val size :  91\n",
            "x_test size :  114\n"
          ],
          "name": "stdout"
        }
      ]
    },
    {
      "cell_type": "code",
      "metadata": {
        "id": "UeQ5fe_qr54V",
        "colab_type": "code",
        "colab": {
          "base_uri": "https://localhost:8080/",
          "height": 35
        },
        "outputId": "d05b9bed-b33e-4e67-8c1f-1aeb6fcd1031"
      },
      "source": [
        "sgd = SGDClassifier(loss='log', random_state=42)\n",
        "sgd.fit(x_train,y_train)\n",
        "sgd.score(x_val, y_val)"
      ],
      "execution_count": null,
      "outputs": [
        {
          "output_type": "execute_result",
          "data": {
            "text/plain": [
              "0.6923076923076923"
            ]
          },
          "metadata": {
            "tags": []
          },
          "execution_count": 25
        }
      ]
    },
    {
      "cell_type": "markdown",
      "metadata": {
        "id": "XS6B8B98sAWI",
        "colab_type": "text"
      },
      "source": [
        "#### 스케일을 조정하지 않고 모델을 훈련해 볼까요?\n",
        "\n",
        "1. 훈련 데이터 준비하고 스케일 비교하기"
      ]
    },
    {
      "cell_type": "code",
      "metadata": {
        "id": "t9TjZko4w6p0",
        "colab_type": "code",
        "colab": {}
      },
      "source": [
        "from matplotlib import pyplot as plt\n",
        "import numpy as np"
      ],
      "execution_count": null,
      "outputs": []
    },
    {
      "cell_type": "code",
      "metadata": {
        "id": "sPufsNxAwn_h",
        "colab_type": "code",
        "colab": {
          "base_uri": "https://localhost:8080/",
          "height": 297
        },
        "outputId": "ef2e5717-6ead-4a5d-b9f9-045e8550941a"
      },
      "source": [
        "print(cancer.feature_names[[2,3]])\n",
        "plt.boxplot(x_train[:,[2,3]])\n",
        "plt.xlabel('feature')\n",
        "plt.ylabel('value')\n",
        "plt.show()"
      ],
      "execution_count": null,
      "outputs": [
        {
          "output_type": "stream",
          "text": [
            "['mean perimeter' 'mean area']\n"
          ],
          "name": "stdout"
        },
        {
          "output_type": "display_data",
          "data": {
            "image/png": "[encoded data removed]",
            "text/plain": [
              "<Figure size 432x288 with 1 Axes>"
            ]
          },
          "metadata": {
            "tags": [],
            "needs_background": "light"
          }
        }
      ]
    },
    {
      "cell_type": "code",
      "metadata": {
        "id": "wuG7-vyyw37o",
        "colab_type": "code",
        "colab": {}
      },
      "source": [
        "class SingleLayer:\n",
        "  def __init__(self, learning_rate=0.1):\n",
        "    self.w = None\n",
        "    self.b = None\n",
        "    self.losses = []\n",
        "    self.w_history = []\n",
        "    self.lr = learning_rate\n",
        "\n",
        "  def forpass(self, x):\n",
        "    z = np.sum(x * self.w) + self.b   # 직선 방정식을 계산합니다.\n",
        "    return z\n",
        "\n",
        "  def backprop(self, x, err):\n",
        "    w_grad = x * err                  # 가중치에 대한 그레이디언트를 계산합니다.\n",
        "    b_grad = 1 * err                  # 절편에 대한 그레이디언트를 계산합니다.\n",
        "    return w_grad, b_grad\n",
        "  \n",
        "  def activation(self, z):\n",
        "    a = 1 / (1 + np.exp(-z))  # 시그모이드 계산\n",
        "    return a\n",
        "\n",
        "  def fit(self, x, y, epochs=100):\n",
        "    self.w = np.ones(x.shape[1])      # 가중치를 초기화합니다.\n",
        "    self.b = 0                        # 절편을 초기화합니다.\n",
        "    self.w_history.append(self.w.copy())# 가중치를 기록합니다.\n",
        "    np.random.seed(42)                # 무작위로 시드를 지정합니다.\n",
        "    for i in range(epochs):           # epochs만큼 반복합니다.\n",
        "      loss = 0\n",
        "      indexes = np.random.permutation(np.arange(len(x))) # 인덱스를 섞습니다.\n",
        "      for i in indexes:      # 모든 샘플에 대해 반복합니다.\n",
        "        z = self.forpass(x[i])         # 정방향 계산\n",
        "        a = self.activation(z)         # 활성화 함수 적용\n",
        "        err = -(y[i] - a)              # 오차 계산\n",
        "        w_grad, b_grad = self.backprop(x[i], err)  # 역방향 계산\n",
        "        self.w -= self.lr * w_grad     # 가중치 업데이트(학습률 적용)\n",
        "        self.b -= b_grad               # 절편 업데이트\n",
        "        self.w_history.append(self.w.copy())  # 가중치를 기록합니다.\n",
        "        \n",
        "        a = np.clip(a, 1e-10, 1-1e-10) # 안전한 로그 계산을 위해 클리핑한 후 손실을 누적합니다.\n",
        "        loss += -(y[i]*np.log(a)+(1-y[i])*np.log(1-a))  # 에포크마다 평균 손실을 저장합니다.\n",
        "      self.losses.append(loss/len(y))\n",
        "\n",
        "  def predict(self, x):\n",
        "    z = [self.forpass(x_i) for x_i in x]\n",
        "    return np.array(z) > 0\n",
        "\n",
        "  def score(self, x, y):\n",
        "    return np.mean(self.predict(x) == y)"
      ],
      "execution_count": null,
      "outputs": []
    },
    {
      "cell_type": "code",
      "metadata": {
        "id": "ixlTctJk8nj3",
        "colab_type": "code",
        "colab": {}
      },
      "source": [
        "layer1 = SingleLayer()"
      ],
      "execution_count": null,
      "outputs": []
    },
    {
      "cell_type": "code",
      "metadata": {
        "id": "euwnCuOh8rWW",
        "colab_type": "code",
        "colab": {
          "base_uri": "https://localhost:8080/",
          "height": 73
        },
        "outputId": "aedff700-1f15-4e2c-a402-f58104a7ff18"
      },
      "source": [
        "layer1.fit(x_train, y_train)\n",
        "layer1.score(x_val, y_val)"
      ],
      "execution_count": null,
      "outputs": [
        {
          "output_type": "stream",
          "text": [
            "/usr/local/lib/python3.6/dist-packages/ipykernel_launcher.py:19: RuntimeWarning: overflow encountered in exp\n"
          ],
          "name": "stderr"
        },
        {
          "output_type": "execute_result",
          "data": {
            "text/plain": [
              "0.9120879120879121"
            ]
          },
          "metadata": {
            "tags": []
          },
          "execution_count": 37
        }
      ]
    },
    {
      "cell_type": "code",
      "metadata": {
        "id": "PatpaFVF80Jg",
        "colab_type": "code",
        "colab": {
          "base_uri": "https://localhost:8080/",
          "height": 279
        },
        "outputId": "b1667a43-4e27-444c-b75c-7370aa81fbcb"
      },
      "source": [
        "w2 = []\n",
        "w3 = []\n",
        "for w in layer1.w_history:\n",
        "  w2.append(w[2])\n",
        "  w3.append(w[3])\n",
        "plt.plot(w2, w3)\n",
        "plt.plot(w2[-1], w3[-1],'ro')\n",
        "plt.xlabel('w[2]:mean perimeter')\n",
        "plt.ylabel('w[3]:mean area')\n",
        "plt.show()\n"
      ],
      "execution_count": null,
      "outputs": [
        {
          "output_type": "display_data",
          "data": {
            "image/png": "[encoded data removed]",
            "text/plain": [
              "<Figure size 432x288 with 1 Axes>"
            ]
          },
          "metadata": {
            "tags": [],
            "needs_background": "light"
          }
        }
      ]
    },
    {
      "cell_type": "markdown",
      "metadata": {
        "id": "PtC-WFhI947Q",
        "colab_type": "text"
      },
      "source": [
        "그래프를 보면 mean perimeter에 비해 mean area의 스케일 값이 크므로 w3값이 학습 과정에서 큰 폭으로 흔들리며 변화하고 있습니다.\n",
        "\n",
        "이 그래프 현상으 'w3에 대한 그레이디언트가 크기 때문에 w3축을 따라 가중치가 요동치고 있다'라고 말합니다.\n",
        "\n",
        "즉, 가중치의 최적값에 도달하는 동안 w3값이 크게 요동치므로 모델이 불안정하게 수렴한다는 것을 알수 있습니다.\n",
        "\n",
        "이를 해결하기 위해 스케일을 조절해야 합니다."
      ]
    },
    {
      "cell_type": "code",
      "metadata": {
        "id": "W5PPBlVa-utk",
        "colab_type": "code",
        "colab": {
          "base_uri": "https://localhost:8080/",
          "height": 279
        },
        "outputId": "224d983c-16dc-4ba3-b19c-f90a489eaa6f"
      },
      "source": [
        "w2 = []\n",
        "w3 = []\n",
        "for w in layer1.w_history:\n",
        "  w2.append(w[2])\n",
        "  w3.append(w[3])\n",
        "plt.plot(w3, w2)\n",
        "plt.plot(w3[-1], w2[-1],'ro')\n",
        "plt.ylabel('w[2]:mean perimeter')\n",
        "plt.xlabel('w[3]:mean area')\n",
        "plt.show()"
      ],
      "execution_count": null,
      "outputs": [
        {
          "output_type": "display_data",
          "data": {
            "image/png": "[encoded data removed]",
            "text/plain": [
              "<Figure size 432x288 with 1 Axes>"
            ]
          },
          "metadata": {
            "tags": [],
            "needs_background": "light"
          }
        }
      ]
    },
    {
      "cell_type": "code",
      "metadata": {
        "id": "bNrtYSvf-2Sc",
        "colab_type": "code",
        "colab": {
          "base_uri": "https://localhost:8080/",
          "height": 35
        },
        "outputId": "56b34c4a-0164-46ad-fd8e-90757c88e683"
      },
      "source": [
        "print(\"(w[2], w[3]) : \", w2[-1], \":\", w3[-1])"
      ],
      "execution_count": null,
      "outputs": [
        {
          "output_type": "stream",
          "text": [
            "(w[2], w[3]) :  2330.6013372131115 : 526.7779780348875\n"
          ],
          "name": "stdout"
        }
      ]
    },
    {
      "cell_type": "markdown",
      "metadata": {
        "id": "226gAMI5_H4s",
        "colab_type": "text"
      },
      "source": [
        "### 스케일을 조정해 모델을 훈련합니다.\n",
        "\n",
        "신경망에서 자주 사용하는 스케일 조정 방법 중 하나는 표준화(standardization)입니다.\n",
        "\n",
        "표준화는 특성값에서 평균을 빼고 표준 편차로 나누면 됩니다.\n",
        "표준화를 하면 평균이 0이고 분산이 1인 특성이 만들어집니다.\n",
        "\n",
        "표준화 공식  \n",
        "$z = {x - \\mu \\over s}$\n",
        "\n",
        "표준편차 공식\n",
        "$s = \\sqrt{{1 \\over m}\\sum_{i=0}^m {(x_i-\\mu)}^2\t}$\n",
        "\n",
        "$m은 샘플의 수이고 \\mu는 평균 입니다.$"
      ]
    },
    {
      "cell_type": "code",
      "metadata": {
        "id": "C0IX5D43CHbh",
        "colab_type": "code",
        "colab": {}
      },
      "source": [
        "train_mean = np.mean(x_train, axis=0)\n",
        "train_std = np.std(x_train, axis=0)\n",
        "x_train_scaled = (x_train - train_mean)/train_std"
      ],
      "execution_count": null,
      "outputs": []
    },
    {
      "cell_type": "code",
      "metadata": {
        "id": "W12qiHpbCheZ",
        "colab_type": "code",
        "colab": {
          "base_uri": "https://localhost:8080/",
          "height": 279
        },
        "outputId": "6b2c163b-34aa-4018-aeeb-3483056de392"
      },
      "source": [
        "layer2 = SingleLayer()\n",
        "layer2.fit(x_train_scaled, y_train)\n",
        "w2 = []\n",
        "w3 = []\n",
        "for w in layer2.w_history:\n",
        "  w2.append(w[2])\n",
        "  w3.append(w[3])\n",
        "plt.plot(w2, w3)\n",
        "plt.plot(w2[-1], w3[-1], 'ro')\n",
        "plt.xlabel('w[2]')\n",
        "plt.ylabel('w[3]')\n",
        "plt.show()"
      ],
      "execution_count": null,
      "outputs": [
        {
          "output_type": "display_data",
          "data": {
            "image/png": "[encoded data removed]",
            "text/plain": [
              "<Figure size 432x288 with 1 Axes>"
            ]
          },
          "metadata": {
            "tags": [],
            "needs_background": "light"
          }
        }
      ]
    },
    {
      "cell_type": "code",
      "metadata": {
        "id": "3Ctm7JlqDGOV",
        "colab_type": "code",
        "colab": {
          "base_uri": "https://localhost:8080/",
          "height": 35
        },
        "outputId": "cc3cc335-1f52-4ca8-bb15-f289b65b486f"
      },
      "source": [
        "layer2.score(x_val, y_val)"
      ],
      "execution_count": null,
      "outputs": [
        {
          "output_type": "execute_result",
          "data": {
            "text/plain": [
              "0.37362637362637363"
            ]
          },
          "metadata": {
            "tags": []
          },
          "execution_count": 48
        }
      ]
    },
    {
      "cell_type": "code",
      "metadata": {
        "id": "o6MyDcL_DUa7",
        "colab_type": "code",
        "colab": {
          "base_uri": "https://localhost:8080/",
          "height": 35
        },
        "outputId": "3ad2dc68-cf9b-40c4-c186-a5260883762b"
      },
      "source": [
        "val_mean = np.mean(x_val, axis=0)\n",
        "val_std = np.std(y_val, axis=0)\n",
        "x_val_scaled = (x_val - val_mean)/val_std\n",
        "layer2.score(x_val_scaled,y_val)"
      ],
      "execution_count": null,
      "outputs": [
        {
          "output_type": "execute_result",
          "data": {
            "text/plain": [
              "0.9340659340659341"
            ]
          },
          "metadata": {
            "tags": []
          },
          "execution_count": 49
        }
      ]
    },
    {
      "cell_type": "code",
      "metadata": {
        "id": "NNXUs3eXDv65",
        "colab_type": "code",
        "colab": {
          "base_uri": "https://localhost:8080/",
          "height": 279
        },
        "outputId": "fe028311-8dba-4f7c-c0f6-f06d9f6b342b"
      },
      "source": [
        "plt.plot(x_train[:50, 0], x_train[:50,1],'bo')\n",
        "plt.plot(x_val[:50, 0], x_val[:50, 1], 'ro')\n",
        "plt.xlabel('fature 1')\n",
        "plt.ylabel('fature 2')\n",
        "plt.legend(['train set', 'val. set'])\n",
        "plt.show()"
      ],
      "execution_count": null,
      "outputs": [
        {
          "output_type": "display_data",
          "data": {
            "image/png": "[encoded data removed]",
            "text/plain": [
              "<Figure size 432x288 with 1 Axes>"
            ]
          },
          "metadata": {
            "tags": [],
            "needs_background": "light"
          }
        }
      ]
    },
    {
      "cell_type": "code",
      "metadata": {
        "id": "_8Ti8FSPEUIA",
        "colab_type": "code",
        "colab": {
          "base_uri": "https://localhost:8080/",
          "height": 279
        },
        "outputId": "2096bfc7-d86e-438c-ee51-0b3bf391bae1"
      },
      "source": [
        "plt.plot(x_train_scaled[:50, 0], x_train_scaled[:50,1],'bo')\n",
        "plt.plot(x_val_scaled[:50, 0], x_val_scaled[:50, 1], 'ro')\n",
        "plt.xlabel('fature 1')\n",
        "plt.ylabel('fature 2')\n",
        "plt.legend(['train set', 'val. set'])\n",
        "plt.show()"
      ],
      "execution_count": null,
      "outputs": [
        {
          "output_type": "display_data",
          "data": {
            "image/png": "[encoded data removed]",
            "text/plain": [
              "<Figure size 432x288 with 1 Axes>"
            ]
          },
          "metadata": {
            "tags": [],
            "needs_background": "light"
          }
        }
      ]
    },
    {
      "cell_type": "code",
      "metadata": {
        "id": "sI85tzWYEleZ",
        "colab_type": "code",
        "colab": {
          "base_uri": "https://localhost:8080/",
          "height": 279
        },
        "outputId": "f3d1b9c5-a225-4bd9-e518-c8d0e93dba65"
      },
      "source": [
        "x_val_scaled = (x_val - train_mean) / train_std\n",
        "plt.plot(x_train_scaled[:50, 0], x_train_scaled[:50,1],'bo')\n",
        "plt.plot(x_val_scaled[:50, 0], x_val_scaled[:50, 1], 'ro')\n",
        "plt.xlabel('fature 1')\n",
        "plt.ylabel('fature 2')\n",
        "plt.legend(['train set', 'val. set'])\n",
        "plt.show()"
      ],
      "execution_count": null,
      "outputs": [
        {
          "output_type": "display_data",
          "data": {
            "image/png": "[encoded data removed]",
            "text/plain": [
              "<Figure size 432x288 with 1 Axes>"
            ]
          },
          "metadata": {
            "tags": [],
            "needs_background": "light"
          }
        }
      ]
    },
    {
      "cell_type": "code",
      "metadata": {
        "id": "5Rhg0NErEdOU",
        "colab_type": "code",
        "colab": {
          "base_uri": "https://localhost:8080/",
          "height": 35
        },
        "outputId": "eb7c0e6a-882a-4bce-922f-5f5cde403381"
      },
      "source": [
        "layer2.score(x_val_scaled, y_val)"
      ],
      "execution_count": null,
      "outputs": [
        {
          "output_type": "execute_result",
          "data": {
            "text/plain": [
              "0.967032967032967"
            ]
          },
          "metadata": {
            "tags": []
          },
          "execution_count": 54
        }
      ]
    },
    {
      "cell_type": "code",
      "metadata": {
        "id": "vknOznQOE_8R",
        "colab_type": "code",
        "colab": {}
      },
      "source": [
        ""
      ],
      "execution_count": null,
      "outputs": []
    }
  ]
}