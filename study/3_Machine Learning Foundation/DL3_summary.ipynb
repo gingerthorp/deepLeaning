{
  "nbformat": 4,
  "nbformat_minor": 0,
  "metadata": {
    "colab": {
      "name": "DL3_summary.ipynb",
      "provenance": [],
      "collapsed_sections": [],
      "toc_visible": true,
      "authorship_tag": "ABX9TyP2r1ClabF+KDjmXFNyJqAS",
      "include_colab_link": true
    },
    "kernelspec": {
      "name": "python3",
      "display_name": "Python 3"
    },
    "accelerator": "GPU"
  },
  "cells": [
    {
      "cell_type": "markdown",
      "metadata": {
        "id": "view-in-github",
        "colab_type": "text"
      },
      "source": [
        "<a href=\"https://colab.research.google.com/github/gingerthorp/deepLeaning/blob/master/study/3_Machine%20Learning%20Foundation/DL3_summary.ipynb\" target=\"_parent\"><img src=\"https://colab.research.google.com/assets/colab-badge.svg\" alt=\"Open In Colab\"/></a>"
      ]
    },
    {
      "cell_type": "markdown",
      "metadata": {
        "id": "SvwFg06NJygQ",
        "colab_type": "text"
      },
      "source": [
        "## 3. 머신러닝의 기초를 다집니다.(수치 예측)\n",
        "\n",
        "목적 : 딥러닝의 기초가 되는 머신러닝 알고리즘들을 직접 만들어봅니다.  \n",
        "목표 : 기본 알고리즘 수학적 이해\n",
        "\n",
        "### 목차\n",
        "> 3.1 선형 회귀에 대해 알아보고 데이터를 준비합니다.  \n",
        "> 3.2 경사 하강법으로 학습하는 방법을 알아봅니다.  \n",
        "> 3.3 손실 함수와 경사 하강법의 관계를 알아봅니다.  \n",
        "> 3.4 선형 회귀를 위한 뉴런(유닛)을 만듭니다.  "
      ]
    }
  ]
}