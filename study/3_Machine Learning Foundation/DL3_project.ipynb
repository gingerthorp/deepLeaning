{
  "nbformat": 4,
  "nbformat_minor": 0,
  "metadata": {
    "colab": {
      "name": "diabetes_gradientDescent.ipynb",
      "provenance": [],
      "authorship_tag": "ABX9TyPkFdCvGFyuxFkkEylBm9sf",
      "include_colab_link": true
    },
    "kernelspec": {
      "name": "python3",
      "display_name": "Python 3"
    }
  },
  "cells": [
    {
      "cell_type": "markdown",
      "metadata": {
        "id": "view-in-github",
        "colab_type": "text"
      },
      "source": [
        "<a href=\"https://colab.research.google.com/github/gingerthorp/deepLeaning/blob/master/study/3_Machine%20Learning%20Foundation/DL3_project.ipynb\" target=\"_parent\"><img src=\"https://colab.research.google.com/assets/colab-badge.svg\" alt=\"Open In Colab\"/></a>"
      ]
    },
    {
      "cell_type": "markdown",
      "metadata": {
        "id": "nAYZ3qbuLwii",
        "colab_type": "text"
      },
      "source": [
        "## 코랩 사용 단축키 정리\n",
        "1. enter : 수정\n",
        "2. esc :  셀 저장\n",
        "3. Ctrl(CMD) + M D : 셀 삭제\n",
        "4. Ctrl(CMD) + M Z : 되돌리기\n",
        "5. Ctrl(CMD) + Enter : 셀 실행 후 **이동하지 않음**\n",
        "6. Shift + Enter : 셀 실행 후 **다음 셀로 이동**\n",
        "7. Alt + Enter : 셀 실행 후 **새로운 셀 삽입**\n",
        "8. Ctrl(CMD) + M M : 코드를 테스트로 변경\n",
        "9. Ctrl(CMD) + M B : 코드 셀 아래 삽입"
      ]
    },
    {
      "cell_type": "code",
      "metadata": {
        "id": "cXuFczKXELst",
        "colab_type": "code",
        "colab": {}
      },
      "source": [
        "from sklearn.datasets import load_diabetes\n",
        "import numpy as np\n",
        "import matplotlib.pyplot as plt"
      ],
      "execution_count": null,
      "outputs": []
    },
    {
      "cell_type": "code",
      "metadata": {
        "id": "XtaToYN-ESiC",
        "colab_type": "code",
        "colab": {}
      },
      "source": [
        "diabetes = load_diabetes()"
      ],
      "execution_count": null,
      "outputs": []
    },
    {
      "cell_type": "code",
      "metadata": {
        "id": "F6129bUYETWV",
        "colab_type": "code",
        "colab": {}
      },
      "source": [
        "x = diabetes.data[:,2]\n",
        "y = diabetes.target"
      ],
      "execution_count": null,
      "outputs": []
    },
    {
      "cell_type": "code",
      "metadata": {
        "id": "Ig2RzHuXHx-Z",
        "colab_type": "code",
        "colab": {}
      },
      "source": [
        "class Neuron:\n",
        "  \n",
        "  def __init__(self):\n",
        "    self.w = 1.0                  # 가중치를 초기화합니다.\n",
        "    self.b = 1.0                  # 절편을 초기화합니다.\n",
        "\n",
        "  def forpass(self, x):\n",
        "    y_hat = x * self.w + self.b   # 직선 방정식을 계산합니다.\n",
        "    return y_hat\n",
        "\n",
        "  def backprop(self, x, err):\n",
        "    w_grad = x * err              # 가중치에 대한 그레이디언트르 계산합니다.\n",
        "    b_grad = 1 * err              # 절편에 대한 그레이디언트를 계산합니다.\n",
        "    return w_grad, b_grad\n",
        "\n",
        "  def fit(self, x, y, epochs=100):\n",
        "    for i in range(epochs):       # 에포크만큼 반복합니다.\n",
        "      for x_i, y_i in zip(x, y):  # 모든 샘플에 대한 반복합니다.\n",
        "        y_hat = self.forpass(x_i) # 정방향 계산\n",
        "        err = -(y_i - y_hat)      # 오차 계산\n",
        "        w_grad, b_grad = self.backprop(x_i, err)  # 역방향 계산\n",
        "        self.w -= w_grad          # 가중치 업데이트\n",
        "        self.b -= b_grad          # 절편 업데이트"
      ],
      "execution_count": null,
      "outputs": []
    },
    {
      "cell_type": "code",
      "metadata": {
        "id": "wpyzSS4XJuXv",
        "colab_type": "code",
        "colab": {}
      },
      "source": [
        "neuron = Neuron()\n",
        "neuron.fit(x, y)"
      ],
      "execution_count": null,
      "outputs": []
    },
    {
      "cell_type": "code",
      "metadata": {
        "id": "ibQWR98QJ-ZG",
        "colab_type": "code",
        "colab": {
          "base_uri": "https://localhost:8080/",
          "height": 297
        },
        "outputId": "ce0b6ede-9930-4f99-fc5c-7f8d5858b155"
      },
      "source": [
        "plt.scatter(x, y)\n",
        "pt1 = (-0.1, -0.1 * neuron.w + neuron.b)\n",
        "pt2 = (0.15, 0.15 * neuron.w + neuron.b)\n",
        "plt.plot([pt1[0],pt2[0]],[pt1[1],pt2[1]])\n",
        "plt.xlabel('sharp value')\n",
        "plt.ylabel('target value')\n",
        "plt.show()\n",
        "neuron.w, neuron.b"
      ],
      "execution_count": null,
      "outputs": [
        {
          "output_type": "display_data",
          "data": {
            "image/png": "[encoded data removed]",
            "text/plain": [
              "<Figure size 432x288 with 1 Axes>"
            ]
          },
          "metadata": {
            "tags": [],
            "needs_background": "light"
          }
        },
        {
          "output_type": "execute_result",
          "data": {
            "text/plain": [
              "(913.5973364345905, 123.39414383177204)"
            ]
          },
          "metadata": {
            "tags": []
          },
          "execution_count": 8
        }
      ]
    },
    {
      "cell_type": "code",
      "metadata": {
        "id": "Zx0LsezFKsty",
        "colab_type": "code",
        "colab": {}
      },
      "source": [
        ""
      ],
      "execution_count": null,
      "outputs": []
    }
  ]
}