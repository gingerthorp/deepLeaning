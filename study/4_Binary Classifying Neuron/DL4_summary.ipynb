{
  "nbformat": 4,
  "nbformat_minor": 0,
  "metadata": {
    "colab": {
      "name": "DL4_summary.ipynb",
      "provenance": [],
      "authorship_tag": "ABX9TyO3VNtJGVhvnEJKt4czssJy",
      "include_colab_link": true
    },
    "kernelspec": {
      "name": "python3",
      "display_name": "Python 3"
    }
  },
  "cells": [
    {
      "cell_type": "markdown",
      "metadata": {
        "id": "view-in-github",
        "colab_type": "text"
      },
      "source": [
        "<a href=\"https://colab.research.google.com/github/gingerthorp/deepLeaning/blob/master/study/4_Binary%20Classifying%20Neuron/DL4_summary.ipynb\" target=\"_parent\"><img src=\"https://colab.research.google.com/assets/colab-badge.svg\" alt=\"Open In Colab\"/></a>"
      ]
    },
    {
      "cell_type": "markdown",
      "metadata": {
        "id": "YeujrKLQO5Ln",
        "colab_type": "text"
      },
      "source": [
        "## 4. 분류하는 뉴런을 만듭니다.(이진 분류)\n",
        "\n",
        "목적 : 선형 회귀를 확장하여 분류(classification) 모델을 만들어 봅니다.  \n",
        "목표 : 이진 분류를 위한 로지스틱 회귀(logistic regression)을 알아보자.  \n",
        "\n",
        "### 목차\n",
        "> 4.1 초기 인공지능 알고리즘과 로지스틱 회귀를 알아봅니다.  \n",
        "> 4.2 시그모이드 함수로 확률을 만듭니다.  \n",
        "> 4.3 로지스틱 손실 함수를 경사 하강법에 적용합니다.  \n",
        "> 4.4 분류용 데이터 세트를 준비합니다.  \n",
        "> 4.5 로지스틱 회귀를 위한 뉴런을 만듭니다.  \n",
        "> 4.6 로지스틱 회귀 뉴런으로 단일층 신경망을 만듭니다.  \n",
        "> 4.7 사이킷런으로 로지스틱 회귀를 수행합니다.  \n"
      ]
    },
    {
      "cell_type": "markdown",
      "metadata": {
        "id": "vw6YIZImQGDX",
        "colab_type": "text"
      },
      "source": [
        ""
      ]
    }
  ]
}